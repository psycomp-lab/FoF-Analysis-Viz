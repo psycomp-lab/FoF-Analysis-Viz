{
 "cells": [
  {
   "cell_type": "code",
   "execution_count": 14,
   "metadata": {},
   "outputs": [],
   "source": [
    "import pandas as pd\n",
    "import math\n",
    "import matplotlib.pyplot as plt"
   ]
  },
  {
   "cell_type": "code",
   "execution_count": 19,
   "metadata": {},
   "outputs": [
    {
     "name": "stdout",
     "output_type": "stream",
     "text": [
      "0.691085 0.13746999999999998 0.37116799999999994\n",
      "0.6930890000000001 0.268196 -0.30510899999999985\n",
      "0.82145 -0.03758 -0.04278399999999971\n",
      "0.649034 -0.02132199999999998 0.00951600000000008\n",
      "0.667884 -0.06464699999999998 -0.21303500000000009\n",
      "0.591392 0.16883599999999999 -0.590598\n",
      "0.696083 0.04316399999999998 0.1086640000000001\n",
      "0.751275 0.01567200000000002 0.0365899999999999\n",
      "0.712788 0.022396000000000027 -0.48240300000000014\n",
      "-0.762159 -0.04953600000000001 0.0646580000000001\n",
      "-0.47403999999999996 0.252242 -0.40689399999999987\n",
      "-0.643078 0.236845 -0.47132499999999977\n",
      "0.7482690000000001 0.27401700000000007 -0.5833200000000001\n",
      "0.207126 0.288553 -0.4744170000000003\n",
      "0.497367 0.272787 -0.6258140000000001\n",
      "0.692611 -0.011747000000000007 -0.3178510000000001\n",
      "0.726241 -0.005961999999999995 -0.198569\n",
      "0.574582 0.169676 -0.6050370000000003\n"
     ]
    },
    {
     "data": {
      "image/png": "[encoded data removed]",
      "text/plain": [
       "<Figure size 640x480 with 1 Axes>"
      ]
     },
     "metadata": {},
     "output_type": "display_data"
    }
   ],
   "source": [
    "import random\n",
    "import functions \n",
    "\n",
    "columns_of_interest = [\n",
    "    'datetime',\n",
    "    'Head.px',\n",
    "    'Head.py',\n",
    "    'Head.pz',\n",
    "]\n",
    "\n",
    "result = functions.get_movement_files('M000')\n",
    "dataframes = functions.get_dataframe_from_file(result, columns_of_interest)\n",
    "\n",
    "velocity = {}\n",
    "for patient, movements in dataframes.items():\n",
    "    if patient == \"Patient-1\":\n",
    "        continue\n",
    "    if patient not in velocity:\n",
    "        velocity[patient] = []\n",
    "    for movement in movements:\n",
    "        df = movement\n",
    "        #print(len(df))\n",
    "        first_row = df.iloc[0]\n",
    "        last_row = df.iloc[50]\n",
    "\n",
    "        displacement_x = last_row['Head.px'] - first_row['Head.px']\n",
    "        displacement_y = last_row['Head.py'] - first_row['Head.py']\n",
    "        displacement_z = last_row['Head.pz'] - first_row['Head.pz']\n",
    "        \n",
    "        time_first = first_row['datetime'].split('_')[1].split('.')[0]\n",
    "        time_end = last_row['datetime'].split('_')[1].split('.')[0]\n",
    "        # calculate the time difference between the first and last row\n",
    "        time_diff = pd.to_datetime(time_end) - pd.to_datetime(time_first)\n",
    "\n",
    "        # time difference is in seconds \n",
    "        # displacement is in meters (?)\n",
    "        velocity_x = displacement_x / time_diff.total_seconds()\n",
    "        velocity_y = displacement_y / time_diff.total_seconds()\n",
    "        velocity_z = displacement_z / time_diff.total_seconds()\n",
    "\n",
    "        speed = math.sqrt(velocity_x**2 + velocity_y**2 + velocity_z**2)\n",
    "        velocity[patient].append(speed)\n",
    "\n",
    "# add to the same plot the values inside the velocity dictionary\n",
    "for patient, values in velocity.items():\n",
    "    # generate different colors for each patient\n",
    "    color = (random.random(), random.random(), random.random())\n",
    "    for value in values:\n",
    "        plt.scatter(patient, value, color=color)\n",
    "plt.show()\n",
    "        "
   ]
  }
 ],
 "metadata": {
  "kernelspec": {
   "display_name": "env",
   "language": "python",
   "name": "python3"
  },
  "language_info": {
   "codemirror_mode": {
    "name": "ipython",
    "version": 3
   },
   "file_extension": ".py",
   "mimetype": "text/x-python",
   "name": "python",
   "nbconvert_exporter": "python",
   "pygments_lexer": "ipython3",
   "version": "3.11.3"
  },
  "orig_nbformat": 4
 },
 "nbformat": 4,
 "nbformat_minor": 2
}
